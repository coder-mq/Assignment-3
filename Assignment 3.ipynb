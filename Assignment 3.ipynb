{
 "cells": [
  {
   "cell_type": "code",
   "execution_count": 1,
   "id": "e637820b",
   "metadata": {},
   "outputs": [
    {
     "name": "stdout",
     "output_type": "stream",
     "text": [
      "[1, 3, 2, 4, 5]\n"
     ]
    }
   ],
   "source": [
    "##Answer 1\n",
    "\n",
    "##Answer 1st:\n",
    "\n",
    "import random\n",
    "\n",
    "my_list = [1, 2, 3, 4, 5]\n",
    "random.shuffle(my_list)\n",
    "print(my_list)\n"
   ]
  },
  {
   "cell_type": "code",
   "execution_count": 10,
   "id": "b1e1090f",
   "metadata": {},
   "outputs": [
    {
     "name": "stdout",
     "output_type": "stream",
     "text": [
      "!dlroW ,olleH\n"
     ]
    }
   ],
   "source": [
    "##Answer 2\n",
    "\n",
    "my_string = \"Hello, World!\"\n",
    "reversed_string = my_string[::-1]\n",
    "print(reversed_string)\n"
   ]
  },
  {
   "cell_type": "code",
   "execution_count": 11,
   "id": "9e775905",
   "metadata": {},
   "outputs": [
    {
     "name": "stdout",
     "output_type": "stream",
     "text": [
      "5\n"
     ]
    }
   ],
   "source": [
    "##Answer 3\n",
    "\n",
    "add = lambda x, y: x + y\n",
    "print(add(2, 3))\n"
   ]
  },
  {
   "cell_type": "code",
   "execution_count": null,
   "id": "c5937106",
   "metadata": {},
   "outputs": [],
   "source": [
    "---------------------------------------------"
   ]
  },
  {
   "cell_type": "code",
   "execution_count": 8,
   "id": "ef396e3e",
   "metadata": {},
   "outputs": [],
   "source": [
    "##Answer 8\n",
    "# Corrected syntax with set constructor\n",
    "my_set = set(map(tuple, [[1, 2], [3, 4], [4, 5]]))\n"
   ]
  },
  {
   "cell_type": "code",
   "execution_count": 13,
   "id": "d1c815da",
   "metadata": {},
   "outputs": [
    {
     "name": "stdout",
     "output_type": "stream",
     "text": [
      "Index: 0, Value: a\n",
      "Index: 1, Value: b\n",
      "Index: 2, Value: c\n"
     ]
    }
   ],
   "source": [
    "##Answer 9\n",
    "\n",
    "my_list = ['a', 'b', 'c']\n",
    "for index, value in enumerate(my_list):\n",
    "    print(f\"Index: {index}, Value: {value}\")\n"
   ]
  },
  {
   "cell_type": "code",
   "execution_count": 12,
   "id": "b9c4f414",
   "metadata": {},
   "outputs": [],
   "source": [
    "##Answern 10\n",
    "def my_function():\n",
    "    \"\"\"\n",
    "    This is a docstring.\n",
    "    It provides information about the function.\n",
    "    \"\"\"\n",
    "    pass\n"
   ]
  },
  {
   "cell_type": "code",
   "execution_count": 2,
   "id": "eaa282a6",
   "metadata": {},
   "outputs": [
    {
     "name": "stdout",
     "output_type": "stream",
     "text": [
      "0\n",
      "1\n",
      "2\n",
      "3\n",
      "4\n"
     ]
    }
   ],
   "source": [
    "##Answer 11\n",
    "\n",
    "def my_range(n):\n",
    "    i = 0\n",
    "    while i < n:\n",
    "        yield i\n",
    "        i += 1\n",
    "\n",
    "for num in my_range(5):\n",
    "    print(num)\n"
   ]
  },
  {
   "cell_type": "code",
   "execution_count": 3,
   "id": "75764e68",
   "metadata": {},
   "outputs": [
    {
     "name": "stdout",
     "output_type": "stream",
     "text": [
      "Hello World!\n",
      "Hello  World!\n"
     ]
    }
   ],
   "source": [
    "##Answer 12\n",
    "\n",
    "str1 = \"Hello\"\n",
    "str2 = \" World!\"\n",
    "\n",
    "# Using concatenation\n",
    "concatenated_string = str1 + str2\n",
    "print(concatenated_string)\n",
    "\n",
    "# Using join\n",
    "strings = [\"Hello\", \" World!\"]\n",
    "joined_string = \" \".join(strings)\n",
    "print(joined_string)\n"
   ]
  },
  {
   "cell_type": "code",
   "execution_count": 4,
   "id": "ed6aa46a",
   "metadata": {},
   "outputs": [
    {
     "name": "stdout",
     "output_type": "stream",
     "text": [
      "{'key': 'value'}\n"
     ]
    }
   ],
   "source": [
    "##Answer 13\n",
    "\n",
    "import pickle\n",
    "\n",
    "data = {'key': 'value'}\n",
    "\n",
    "# Pickling\n",
    "with open('data.pickle', 'wb') as f:\n",
    "    pickle.dump(data, f)\n",
    "\n",
    "# Unpickling\n",
    "with open('data.pickle', 'rb') as f:\n",
    "    loaded_data = pickle.load(f)\n",
    "\n",
    "print(loaded_data)\n"
   ]
  },
  {
   "cell_type": "code",
   "execution_count": 5,
   "id": "ad8c18b9",
   "metadata": {},
   "outputs": [
    {
     "data": {
      "text/plain": [
       "'Patched method'"
      ]
     },
     "execution_count": 5,
     "metadata": {},
     "output_type": "execute_result"
    }
   ],
   "source": [
    "##Answer 14\n",
    "\n",
    "class MyClass:\n",
    "    def my_method(self):\n",
    "        return \"Original method\"\n",
    "\n",
    "def new_method(self):\n",
    "    return \"Patched method\"\n",
    "\n",
    "obj = MyClass()\n",
    "obj.my_method()  # Original method\n",
    "\n",
    "# Monkey patching\n",
    "MyClass.my_method = new_method\n",
    "obj.my_method()  # Patched method\n"
   ]
  },
  {
   "cell_type": "code",
   "execution_count": 6,
   "id": "0d954bc0",
   "metadata": {},
   "outputs": [],
   "source": [
    "##Answer 15\n",
    "\n",
    "import sys\n",
    "\n",
    "# Set a higher recursion limit (use with caution)\n",
    "sys.setrecursionlimit(1500)\n"
   ]
  },
  {
   "cell_type": "code",
   "execution_count": 7,
   "id": "e42b6f6c",
   "metadata": {},
   "outputs": [
    {
     "name": "stdout",
     "output_type": "stream",
     "text": [
      "Positional arguments: (1, 2, 3)\n",
      "Keyword arguments: {'name': 'John', 'age': 25}\n"
     ]
    }
   ],
   "source": [
    "##Answer 17\n",
    "\n",
    "def example_function(*args, **kwargs):\n",
    "    print(\"Positional arguments:\", args)\n",
    "    print(\"Keyword arguments:\", kwargs)\n",
    "\n",
    "example_function(1, 2, 3, name=\"John\", age=25)\n",
    "\n"
   ]
  },
  {
   "cell_type": "code",
   "execution_count": 9,
   "id": "0217de97",
   "metadata": {},
   "outputs": [
    {
     "data": {
      "text/plain": [
       "{(1, 2), (3, 4), (4, 5)}"
      ]
     },
     "execution_count": 9,
     "metadata": {},
     "output_type": "execute_result"
    }
   ],
   "source": [
    "my_set"
   ]
  }
 ],
 "metadata": {
  "kernelspec": {
   "display_name": "Python 3 (ipykernel)",
   "language": "python",
   "name": "python3"
  },
  "language_info": {
   "codemirror_mode": {
    "name": "ipython",
    "version": 3
   },
   "file_extension": ".py",
   "mimetype": "text/x-python",
   "name": "python",
   "nbconvert_exporter": "python",
   "pygments_lexer": "ipython3",
   "version": "3.10.9"
  }
 },
 "nbformat": 4,
 "nbformat_minor": 5
}
